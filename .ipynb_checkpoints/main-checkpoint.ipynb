{
 "cells": [
  {
   "cell_type": "code",
   "execution_count": 40,
   "metadata": {},
   "outputs": [
    {
     "data": {
      "text/html": [
       "<div>\n",
       "<style scoped>\n",
       "    .dataframe tbody tr th:only-of-type {\n",
       "        vertical-align: middle;\n",
       "    }\n",
       "\n",
       "    .dataframe tbody tr th {\n",
       "        vertical-align: top;\n",
       "    }\n",
       "\n",
       "    .dataframe thead th {\n",
       "        text-align: right;\n",
       "    }\n",
       "</style>\n",
       "<table border=\"1\" class=\"dataframe\">\n",
       "  <thead>\n",
       "    <tr style=\"text-align: right;\">\n",
       "      <th></th>\n",
       "      <th>Model</th>\n",
       "      <th>Make</th>\n",
       "      <th>Model.1</th>\n",
       "      <th>Vehicle Class</th>\n",
       "      <th>Engine Size</th>\n",
       "      <th>Cylinders</th>\n",
       "      <th>Transmission</th>\n",
       "      <th>Fuel</th>\n",
       "      <th>Fuel Consumption</th>\n",
       "      <th>Unnamed: 9</th>\n",
       "      <th>...</th>\n",
       "      <th>Unnamed: 211</th>\n",
       "      <th>Unnamed: 212</th>\n",
       "      <th>Unnamed: 213</th>\n",
       "      <th>Unnamed: 214</th>\n",
       "      <th>Unnamed: 215</th>\n",
       "      <th>Unnamed: 216</th>\n",
       "      <th>Unnamed: 217</th>\n",
       "      <th>Unnamed: 218</th>\n",
       "      <th>Unnamed: 219</th>\n",
       "      <th>Unnamed: 220</th>\n",
       "    </tr>\n",
       "  </thead>\n",
       "  <tbody>\n",
       "    <tr>\n",
       "      <th>0</th>\n",
       "      <td>Year</td>\n",
       "      <td>NaN</td>\n",
       "      <td>NaN</td>\n",
       "      <td>NaN</td>\n",
       "      <td>(L)</td>\n",
       "      <td>NaN</td>\n",
       "      <td>NaN</td>\n",
       "      <td>Type</td>\n",
       "      <td>City (L/100 km)</td>\n",
       "      <td>Hwy (L/100 km)</td>\n",
       "      <td>...</td>\n",
       "      <td>NaN</td>\n",
       "      <td>NaN</td>\n",
       "      <td>NaN</td>\n",
       "      <td>NaN</td>\n",
       "      <td>NaN</td>\n",
       "      <td>NaN</td>\n",
       "      <td>NaN</td>\n",
       "      <td>NaN</td>\n",
       "      <td>NaN</td>\n",
       "      <td>NaN</td>\n",
       "    </tr>\n",
       "    <tr>\n",
       "      <th>1</th>\n",
       "      <td>2019</td>\n",
       "      <td>Acura</td>\n",
       "      <td>ILX</td>\n",
       "      <td>Compact</td>\n",
       "      <td>2.4</td>\n",
       "      <td>4.0</td>\n",
       "      <td>AM8</td>\n",
       "      <td>Z</td>\n",
       "      <td>9.9</td>\n",
       "      <td>7.0</td>\n",
       "      <td>...</td>\n",
       "      <td>NaN</td>\n",
       "      <td>NaN</td>\n",
       "      <td>NaN</td>\n",
       "      <td>NaN</td>\n",
       "      <td>NaN</td>\n",
       "      <td>NaN</td>\n",
       "      <td>NaN</td>\n",
       "      <td>NaN</td>\n",
       "      <td>NaN</td>\n",
       "      <td>NaN</td>\n",
       "    </tr>\n",
       "    <tr>\n",
       "      <th>2</th>\n",
       "      <td>2019</td>\n",
       "      <td>Acura</td>\n",
       "      <td>MDX SH-AWD</td>\n",
       "      <td>SUV: Small</td>\n",
       "      <td>3.5</td>\n",
       "      <td>6.0</td>\n",
       "      <td>AS9</td>\n",
       "      <td>Z</td>\n",
       "      <td>12.2</td>\n",
       "      <td>9.0</td>\n",
       "      <td>...</td>\n",
       "      <td>NaN</td>\n",
       "      <td>NaN</td>\n",
       "      <td>NaN</td>\n",
       "      <td>NaN</td>\n",
       "      <td>NaN</td>\n",
       "      <td>NaN</td>\n",
       "      <td>NaN</td>\n",
       "      <td>NaN</td>\n",
       "      <td>NaN</td>\n",
       "      <td>NaN</td>\n",
       "    </tr>\n",
       "    <tr>\n",
       "      <th>3</th>\n",
       "      <td>2019</td>\n",
       "      <td>Acura</td>\n",
       "      <td>MDX SH-AWD A-SPEC</td>\n",
       "      <td>SUV: Small</td>\n",
       "      <td>3.5</td>\n",
       "      <td>6.0</td>\n",
       "      <td>AS9</td>\n",
       "      <td>Z</td>\n",
       "      <td>12.2</td>\n",
       "      <td>9.5</td>\n",
       "      <td>...</td>\n",
       "      <td>NaN</td>\n",
       "      <td>NaN</td>\n",
       "      <td>NaN</td>\n",
       "      <td>NaN</td>\n",
       "      <td>NaN</td>\n",
       "      <td>NaN</td>\n",
       "      <td>NaN</td>\n",
       "      <td>NaN</td>\n",
       "      <td>NaN</td>\n",
       "      <td>NaN</td>\n",
       "    </tr>\n",
       "    <tr>\n",
       "      <th>4</th>\n",
       "      <td>2019</td>\n",
       "      <td>Acura</td>\n",
       "      <td>MDX Hybrid AWD</td>\n",
       "      <td>SUV: Small</td>\n",
       "      <td>3.0</td>\n",
       "      <td>6.0</td>\n",
       "      <td>AM7</td>\n",
       "      <td>Z</td>\n",
       "      <td>9.1</td>\n",
       "      <td>9.0</td>\n",
       "      <td>...</td>\n",
       "      <td>NaN</td>\n",
       "      <td>NaN</td>\n",
       "      <td>NaN</td>\n",
       "      <td>NaN</td>\n",
       "      <td>NaN</td>\n",
       "      <td>NaN</td>\n",
       "      <td>NaN</td>\n",
       "      <td>NaN</td>\n",
       "      <td>NaN</td>\n",
       "      <td>NaN</td>\n",
       "    </tr>\n",
       "    <tr>\n",
       "      <th>5</th>\n",
       "      <td>2019</td>\n",
       "      <td>Acura</td>\n",
       "      <td>NSX</td>\n",
       "      <td>Two-seater</td>\n",
       "      <td>3.5</td>\n",
       "      <td>6.0</td>\n",
       "      <td>AM9</td>\n",
       "      <td>Z</td>\n",
       "      <td>11.1</td>\n",
       "      <td>10.8</td>\n",
       "      <td>...</td>\n",
       "      <td>NaN</td>\n",
       "      <td>NaN</td>\n",
       "      <td>NaN</td>\n",
       "      <td>NaN</td>\n",
       "      <td>NaN</td>\n",
       "      <td>NaN</td>\n",
       "      <td>NaN</td>\n",
       "      <td>NaN</td>\n",
       "      <td>NaN</td>\n",
       "      <td>NaN</td>\n",
       "    </tr>\n",
       "  </tbody>\n",
       "</table>\n",
       "<p>6 rows × 221 columns</p>\n",
       "</div>"
      ],
      "text/plain": [
       "  Model   Make            Model.1 Vehicle Class Engine Size  Cylinders  \\\n",
       "0  Year    NaN                NaN           NaN         (L)        NaN   \n",
       "1  2019  Acura                ILX       Compact         2.4        4.0   \n",
       "2  2019  Acura         MDX SH-AWD    SUV: Small         3.5        6.0   \n",
       "3  2019  Acura  MDX SH-AWD A-SPEC    SUV: Small         3.5        6.0   \n",
       "4  2019  Acura     MDX Hybrid AWD    SUV: Small         3.0        6.0   \n",
       "5  2019  Acura                NSX    Two-seater         3.5        6.0   \n",
       "\n",
       "  Transmission  Fuel Fuel Consumption      Unnamed: 9      ...       \\\n",
       "0          NaN  Type  City (L/100 km)  Hwy (L/100 km)      ...        \n",
       "1          AM8     Z              9.9             7.0      ...        \n",
       "2          AS9     Z             12.2             9.0      ...        \n",
       "3          AS9     Z             12.2             9.5      ...        \n",
       "4          AM7     Z              9.1             9.0      ...        \n",
       "5          AM9     Z             11.1            10.8      ...        \n",
       "\n",
       "  Unnamed: 211 Unnamed: 212 Unnamed: 213 Unnamed: 214 Unnamed: 215  \\\n",
       "0          NaN          NaN          NaN          NaN          NaN   \n",
       "1          NaN          NaN          NaN          NaN          NaN   \n",
       "2          NaN          NaN          NaN          NaN          NaN   \n",
       "3          NaN          NaN          NaN          NaN          NaN   \n",
       "4          NaN          NaN          NaN          NaN          NaN   \n",
       "5          NaN          NaN          NaN          NaN          NaN   \n",
       "\n",
       "   Unnamed: 216  Unnamed: 217  Unnamed: 218  Unnamed: 219  Unnamed: 220  \n",
       "0           NaN           NaN           NaN           NaN           NaN  \n",
       "1           NaN           NaN           NaN           NaN           NaN  \n",
       "2           NaN           NaN           NaN           NaN           NaN  \n",
       "3           NaN           NaN           NaN           NaN           NaN  \n",
       "4           NaN           NaN           NaN           NaN           NaN  \n",
       "5           NaN           NaN           NaN           NaN           NaN  \n",
       "\n",
       "[6 rows x 221 columns]"
      ]
     },
     "execution_count": 40,
     "metadata": {},
     "output_type": "execute_result"
    }
   ],
   "source": [
    "import pandas as pd\n",
    "df = pd.read_csv(\"MY2019_Fuel_Consumption.csv\", encoding='latin1', nrows = 1023)\n",
    "df.head(6)"
   ]
  },
  {
   "cell_type": "markdown",
   "metadata": {},
   "source": [
    "The dataset has a lot of columns because of the format of the file, for that reason the table is unreadable, but only few of the columns are important for a linear regresion. The first row is just the information of the columns (units, etc), so It is wise to delete the first row and select the columns that are useful. Also we rename the \"Fuel Consumption\" columns to specify that is the consumption in the city, and the column \"Unnamed: 9\" is the consumption in the highway (Hwy)"
   ]
  },
  {
   "cell_type": "code",
   "execution_count": 41,
   "metadata": {},
   "outputs": [
    {
     "name": "stdout",
     "output_type": "stream",
     "text": [
      "Engine Size               object\n",
      "Cylinders                float64\n",
      "Fuel Consumption City     object\n",
      "Fuel Consumption Hwy      object\n",
      "CO2 Emissions             object\n",
      "dtype: object\n"
     ]
    },
    {
     "data": {
      "text/html": [
       "<div>\n",
       "<style scoped>\n",
       "    .dataframe tbody tr th:only-of-type {\n",
       "        vertical-align: middle;\n",
       "    }\n",
       "\n",
       "    .dataframe tbody tr th {\n",
       "        vertical-align: top;\n",
       "    }\n",
       "\n",
       "    .dataframe thead th {\n",
       "        text-align: right;\n",
       "    }\n",
       "</style>\n",
       "<table border=\"1\" class=\"dataframe\">\n",
       "  <thead>\n",
       "    <tr style=\"text-align: right;\">\n",
       "      <th></th>\n",
       "      <th>Engine Size</th>\n",
       "      <th>Cylinders</th>\n",
       "      <th>Fuel Consumption City</th>\n",
       "      <th>Fuel Consumption Hwy</th>\n",
       "      <th>CO2 Emissions</th>\n",
       "    </tr>\n",
       "  </thead>\n",
       "  <tbody>\n",
       "    <tr>\n",
       "      <th>1</th>\n",
       "      <td>2.4</td>\n",
       "      <td>4.0</td>\n",
       "      <td>9.9</td>\n",
       "      <td>7.0</td>\n",
       "      <td>199</td>\n",
       "    </tr>\n",
       "    <tr>\n",
       "      <th>2</th>\n",
       "      <td>3.5</td>\n",
       "      <td>6.0</td>\n",
       "      <td>12.2</td>\n",
       "      <td>9.0</td>\n",
       "      <td>252</td>\n",
       "    </tr>\n",
       "    <tr>\n",
       "      <th>3</th>\n",
       "      <td>3.5</td>\n",
       "      <td>6.0</td>\n",
       "      <td>12.2</td>\n",
       "      <td>9.5</td>\n",
       "      <td>258</td>\n",
       "    </tr>\n",
       "    <tr>\n",
       "      <th>4</th>\n",
       "      <td>3.0</td>\n",
       "      <td>6.0</td>\n",
       "      <td>9.1</td>\n",
       "      <td>9.0</td>\n",
       "      <td>210</td>\n",
       "    </tr>\n",
       "    <tr>\n",
       "      <th>5</th>\n",
       "      <td>3.5</td>\n",
       "      <td>6.0</td>\n",
       "      <td>11.1</td>\n",
       "      <td>10.8</td>\n",
       "      <td>261</td>\n",
       "    </tr>\n",
       "    <tr>\n",
       "      <th>6</th>\n",
       "      <td>2.0</td>\n",
       "      <td>4.0</td>\n",
       "      <td>11.0</td>\n",
       "      <td>8.6</td>\n",
       "      <td>232</td>\n",
       "    </tr>\n",
       "  </tbody>\n",
       "</table>\n",
       "</div>"
      ],
      "text/plain": [
       "  Engine Size  Cylinders Fuel Consumption City Fuel Consumption Hwy  \\\n",
       "1         2.4        4.0                   9.9                  7.0   \n",
       "2         3.5        6.0                  12.2                  9.0   \n",
       "3         3.5        6.0                  12.2                  9.5   \n",
       "4         3.0        6.0                   9.1                  9.0   \n",
       "5         3.5        6.0                  11.1                 10.8   \n",
       "6         2.0        4.0                  11.0                  8.6   \n",
       "\n",
       "  CO2 Emissions  \n",
       "1           199  \n",
       "2           252  \n",
       "3           258  \n",
       "4           210  \n",
       "5           261  \n",
       "6           232  "
      ]
     },
     "execution_count": 41,
     "metadata": {},
     "output_type": "execute_result"
    }
   ],
   "source": [
    "df.rename( columns={'Unnamed: 9':'Fuel Consumption Hwy', 'Fuel Consumption':'Fuel Consumption City'}, inplace=True )\n",
    "\n",
    "df = df[[\"Engine Size\", \"Cylinders\", \"Fuel Consumption City\", \"Fuel Consumption Hwy\", \"CO2 Emissions\" ]]\n",
    "df.drop(0, inplace = True)\n",
    "print (df.dtypes)\n",
    "df.head(6)"
   ]
  },
  {
   "cell_type": "markdown",
   "metadata": {},
   "source": [
    "The type of the data frame is object, we need to change it to float."
   ]
  },
  {
   "cell_type": "code",
   "execution_count": 42,
   "metadata": {},
   "outputs": [
    {
     "name": "stdout",
     "output_type": "stream",
     "text": [
      "Engine Size              float64\n",
      "Cylinders                float64\n",
      "Fuel Consumption City    float64\n",
      "Fuel Consumption Hwy     float64\n",
      "CO2 Emissions            float64\n",
      "dtype: object\n"
     ]
    }
   ],
   "source": [
    "df['Engine Size'] = df['Engine Size'].astype(float)\n",
    "df[\"Fuel Consumption City\"] = df[\"Fuel Consumption City\"].astype(float)\n",
    "df[\"Fuel Consumption Hwy\"] = df[\"Fuel Consumption Hwy\"].astype(float)\n",
    "df[\"CO2 Emissions\"] = df[\"CO2 Emissions\"].astype(float)\n",
    "print (df.dtypes)"
   ]
  },
  {
   "cell_type": "markdown",
   "metadata": {},
   "source": [
    "The CO2 Emission is what is need to be calculated, so it is important to plot each column vs Emission. With that it is easy to understand the data when it is visualized."
   ]
  },
  {
   "cell_type": "code",
   "execution_count": 55,
   "metadata": {
    "scrolled": true
   },
   "outputs": [
    {
     "data": {
      "image/png": "[encoded data removed]",
      "text/plain": [
       "<Figure size 1512x360 with 4 Axes>"
      ]
     },
     "metadata": {},
     "output_type": "display_data"
    }
   ],
   "source": [
    "import matplotlib as mpl\n",
    "import matplotlib.pyplot as plt\n",
    "import numpy as np\n",
    "%matplotlib inline\n",
    "mpl.style.use('ggplot')\n",
    "\n",
    "fig, ax = plt.subplots(1, 4, figsize=(21, 5), sharey = True)\n",
    "\n",
    "ax[0].set_ylabel(\"CO2 Emission\")\n",
    "ax[0].scatter(df[\"Fuel Consumption City\"], df[\"CO2 Emissions\"])\n",
    "ax[0].set_xlabel(\"Fuel Consumption City\")\n",
    "\n",
    "ax[1].scatter(df[\"Fuel Consumption Hwy\"], df[\"CO2 Emissions\"])\n",
    "ax[1].set_xlabel(\"Fuel Consumption Hwy\")\n",
    "\n",
    "ax[2].scatter(df[\"Engine Size\"], df[\"CO2 Emissions\"])\n",
    "ax[2].set_xlabel(\"Engine Size\")\n",
    "\n",
    "ax[3].scatter(df[\"Cylinders\"], df[\"CO2 Emissions\"])\n",
    "ax[3].set_xlabel(\"Cylinders\")\n",
    "plt.savefig('images/visualData.png', dpi=400, bbox_inches=\"tight\")"
   ]
  },
  {
   "cell_type": "markdown",
   "metadata": {},
   "source": [
    "The data has a lineal tendency. So we can confirm that we can use a lineal regression to predict the CO2 emission. For the model, we are going to select 80% of the data for training and 20% for testing."
   ]
  },
  {
   "cell_type": "code",
   "execution_count": 44,
   "metadata": {},
   "outputs": [],
   "source": [
    "# np.random.rand(dimension) returns an array of random numbers between [0,1)\n",
    "# Then we check every random value with a condition.\n",
    "# ~mask is the negation of the condition\n",
    "mask = np.random.rand(len(df)) < 0.8\n",
    "train = df[mask]\n",
    "test = df[~mask]"
   ]
  },
  {
   "cell_type": "markdown",
   "metadata": {},
   "source": [
    "We have our data for trainining and for test. Plotting the data is a good idea."
   ]
  },
  {
   "cell_type": "code",
   "execution_count": 45,
   "metadata": {},
   "outputs": [
    {
     "data": {
      "image/png": "[encoded data removed]",
      "text/plain": [
       "<Figure size 1368x360 with 2 Axes>"
      ]
     },
     "metadata": {},
     "output_type": "display_data"
    }
   ],
   "source": [
    "fig, ax = plt.subplots(1,2, figsize=(19,5), sharey = True)\n",
    "\n",
    "ax[0].set_title(\"Train data Distribution\")\n",
    "ax[0].scatter(train[\"Engine Size\"], train[\"CO2 Emissions\"])\n",
    "ax[0].set_xlabel(\"Engine size\")\n",
    "ax[0].set_ylabel(\"Emission\")\n",
    "\n",
    "\n",
    "ax[1].set_title(\"Test data Distrubution\")\n",
    "ax[1].scatter(test[\"Engine Size\"], test[\"CO2 Emissions\"])\n",
    "ax[1].set_xlabel(\"Engine size\")\n",
    "\n",
    "plt.show()"
   ]
  },
  {
   "cell_type": "markdown",
   "metadata": {},
   "source": [
    "Because of the behaviour the data, we plot a lineal model with the form $\\hat{y}=\\theta_0+\\theta_1x$. Is the line equation, where $\\theta_0$ is the intersection with the \"Emission\"-axis and $\\theta_1$ is the slope. $x$ is the \"Engine size\"."
   ]
  },
  {
   "cell_type": "code",
   "execution_count": 46,
   "metadata": {},
   "outputs": [
    {
     "name": "stdout",
     "output_type": "stream",
     "text": [
      "Coefficients:  [[36.45753303]]\n",
      "Intercept:  [137.15200738]\n"
     ]
    }
   ],
   "source": [
    "from sklearn import linear_model\n",
    "regr = linear_model.LinearRegression()\n",
    "\n",
    "# np.asanyarray convert the input in an n-array\n",
    "train_x = np.asanyarray(train[['Engine Size']])\n",
    "train_y = np.asanyarray(train[['CO2 Emissions']])\n",
    "\n",
    "#Train the model\n",
    "regr.fit(train_x, train_y)\n",
    "# The coefficients\n",
    "print ('Coefficients: ', regr.coef_)\n",
    "print ('Intercept: ',regr.intercept_)"
   ]
  },
  {
   "cell_type": "markdown",
   "metadata": {},
   "source": [
    "Now we can plot the data with the regression line. The line will be:\n",
    "$$Emission = 136.90980135 + 36.35139987\\cdot EngineSize$$"
   ]
  },
  {
   "cell_type": "code",
   "execution_count": 47,
   "metadata": {},
   "outputs": [
    {
     "data": {
      "image/png": "[encoded data removed]",
      "text/plain": [
       "<Figure size 432x288 with 1 Axes>"
      ]
     },
     "metadata": {},
     "output_type": "display_data"
    }
   ],
   "source": [
    "#Plot the training data with the regression line\n",
    "plt.scatter(train['Engine Size'], train['CO2 Emissions'])\n",
    "plt.plot(train_x, regr.coef_[0][0]*train_x + regr.intercept_[0], '-b')\n",
    "plt.xlabel(\"Engine size\")\n",
    "plt.ylabel(\"Emission\")\n",
    "plt.savefig(\"images/linearRegression.png\")"
   ]
  },
  {
   "cell_type": "code",
   "execution_count": 48,
   "metadata": {},
   "outputs": [
    {
     "name": "stdout",
     "output_type": "stream",
     "text": [
      "Mean absolute error: 23.38\n",
      "Residual sum of squares (MSE): 991.41\n",
      "R2-score: 0.55\n"
     ]
    }
   ],
   "source": [
    "#Testing the data to calculate its mean squared error\n",
    "from sklearn.metrics import r2_score\n",
    "\n",
    "test_x = np.asanyarray(test[['Engine Size']])\n",
    "test_y = np.asanyarray(test[['CO2 Emissions']])\n",
    "test_y_ = regr.predict(test_x)\n",
    "\n",
    "print(\"Mean absolute error: %.2f\" % np.mean(np.absolute(test_y_ - test_y)))\n",
    "print(\"Residual sum of squares (MSE): %.2f\" % np.mean((test_y_ - test_y) ** 2))\n",
    "print(\"R2-score: %.2f\" % r2_score(test_y_ , test_y) )"
   ]
  },
  {
   "cell_type": "markdown",
   "metadata": {},
   "source": [
    "Now we create multi linear regression model using first only three independants variables, and after that we will compare when we used four independats variables to see which model represents the data better."
   ]
  },
  {
   "cell_type": "code",
   "execution_count": 51,
   "metadata": {},
   "outputs": [
    {
     "name": "stdout",
     "output_type": "stream",
     "text": [
      "Coefficients:  [[ 6.16440153  2.7113386  12.8196672 ]]\n",
      "Intercept:  [57.78115463]\n"
     ]
    }
   ],
   "source": [
    "mult_regr = linear_model.LinearRegression()\n",
    "x = np.asanyarray(train[['Engine Size','Cylinders','Fuel Consumption City']])\n",
    "y = np.asanyarray(train[['CO2 Emissions']])\n",
    "mult_regr.fit(x,y)\n",
    "print ('Coefficients: ', mult_regr.coef_)\n",
    "print ('Intercept: ',mult_regr.intercept_)"
   ]
  },
  {
   "cell_type": "code",
   "execution_count": 52,
   "metadata": {},
   "outputs": [
    {
     "name": "stdout",
     "output_type": "stream",
     "text": [
      "Mean absolute error: 19.05927\n",
      "Residual sum of squares: 363.25563\n",
      "R2-score: 0.88645\n"
     ]
    }
   ],
   "source": [
    "#Predict\n",
    "from sklearn.metrics import mean_squared_error, r2_score  \n",
    "\n",
    "y_predict = mult_regr.predict(test[['Engine Size','Cylinders','Fuel Consumption City']])\n",
    "x_test = np.asanyarray(test[['Engine Size','Cylinders', 'Fuel Consumption City']])\n",
    "y_test = np.asanyarray(test[['CO2 Emissions']])\n",
    "\n",
    "print(\"Mean absolute error: %.5f\" % np.sqrt(mean_squared_error(y_test, y_predict)))\n",
    "print(\"Residual sum of squares: %.5f\" % np.mean((y_predict - y_test) ** 2))\n",
    "print('R2-score: %.5f' %r2_score(y_test, y_predict))"
   ]
  },
  {
   "cell_type": "code",
   "execution_count": 53,
   "metadata": {},
   "outputs": [
    {
     "name": "stdout",
     "output_type": "stream",
     "text": [
      "Coefficients:  [[6.45707007 3.09921601 9.15744522 5.76846419]]\n",
      "Intercept:  [47.87307878]\n"
     ]
    }
   ],
   "source": [
    "mult_regr_ = linear_model.LinearRegression()\n",
    "x = np.asanyarray(train[['Engine Size','Cylinders','Fuel Consumption City','Fuel Consumption Hwy' ]])\n",
    "y = np.asanyarray(train[['CO2 Emissions']])\n",
    "mult_regr.fit(x,y)\n",
    "print ('Coefficients: ', mult_regr.coef_)\n",
    "print ('Intercept: ',mult_regr.intercept_)\n"
   ]
  },
  {
   "cell_type": "code",
   "execution_count": 54,
   "metadata": {},
   "outputs": [
    {
     "name": "stdout",
     "output_type": "stream",
     "text": [
      "Mean absolute error: 17.87510\n",
      "Residual sum of squares: 319.51931\n",
      "R2-score: 0.90012\n"
     ]
    }
   ],
   "source": [
    "y_predict = mult_regr.predict(test[['Engine Size','Cylinders','Fuel Consumption City','Fuel Consumption Hwy' ]])\n",
    "x_test = np.asanyarray(test[['Engine Size','Cylinders', 'Fuel Consumption City','Fuel Consumption Hwy' ]])\n",
    "y_test = np.asanyarray(test[['CO2 Emissions']])\n",
    "\n",
    "print(\"Mean absolute error: %.5f\" % np.sqrt(mean_squared_error(y_test, y_predict)))\n",
    "print(\"Residual sum of squares: %.5f\" % np.mean((y_predict - y_test) ** 2))\n",
    "print('R2-score: %.5f' %r2_score(y_test, y_predict))"
   ]
  },
  {
   "cell_type": "code",
   "execution_count": null,
   "metadata": {},
   "outputs": [],
   "source": []
  }
 ],
 "metadata": {
  "kernelspec": {
   "display_name": "Python 3",
   "language": "python",
   "name": "python3"
  },
  "language_info": {
   "codemirror_mode": {
    "name": "ipython",
    "version": 3
   },
   "file_extension": ".py",
   "mimetype": "text/x-python",
   "name": "python",
   "nbconvert_exporter": "python",
   "pygments_lexer": "ipython3",
   "version": "3.6.5"
  }
 },
 "nbformat": 4,
 "nbformat_minor": 2
}
